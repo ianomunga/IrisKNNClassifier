{
  "nbformat": 4,
  "nbformat_minor": 0,
  "metadata": {
    "colab": {
      "name": "Iris KNN Classification.ipynb",
      "provenance": [],
      "collapsed_sections": [],
      "authorship_tag": "ABX9TyPmXiMO+q+fsx5E38GbiwW1",
      "include_colab_link": true
    },
    "kernelspec": {
      "name": "python3",
      "display_name": "Python 3"
    },
    "language_info": {
      "name": "python"
    }
  },
  "cells": [
    {
      "cell_type": "markdown",
      "metadata": {
        "id": "view-in-github",
        "colab_type": "text"
      },
      "source": [
        "<a href=\"https://colab.research.google.com/github/ianomunga/IrisKNNClassifier/blob/main/Iris_KNN_Classification.ipynb\" target=\"_parent\"><img src=\"https://colab.research.google.com/assets/colab-badge.svg\" alt=\"Open In Colab\"/></a>"
      ]
    },
    {
      "cell_type": "markdown",
      "source": [
        "##K-Nearest Neighbour Iris Classification using Scikit-Learn\n",
        "This is a simple model that demonstrates important fundamental concepts such as:\n",
        "* Loading cached data \n",
        "* Splitting it into a training set and a test set to prevent overfitting\n",
        "* Using discrete values that have been one-hot encoded to enable their mathematical manipulation as numerical Numpy Multi-dimensional arrays\n",
        "* Validating training data results against test data\n",
        "\n",
        "While the K-Nearest Neighbours approach is outperformed by more sophisticated classification algorithms, it's a good place to start. "
      ],
      "metadata": {
        "id": "Ng4ojsboo_TN"
      }
    },
    {
      "cell_type": "code",
      "execution_count": 1,
      "metadata": {
        "id": "RrvHP4JfjpFq"
      },
      "outputs": [],
      "source": [
        "#importing all the dependecies\n",
        "import numpy as np\n",
        "import pandas as pd\n",
        "import sklearn \n",
        "import matplotlib.pyplot as plt\n",
        "\n",
        "#for enabling viewing visualizations on screen instead of \n",
        "#opening them in a new tab\n",
        "%matplotlib inline "
      ]
    },
    {
      "cell_type": "code",
      "source": [
        "#load the iris dataset that's been cached by sklearn\n",
        "from sklearn.datasets import load_iris\n",
        "iris_dataset = load_iris()\n",
        "print(\"Keys of iris_dataset: \\n{}\".format(iris_dataset.keys()))"
      ],
      "metadata": {
        "colab": {
          "base_uri": "https://localhost:8080/"
        },
        "id": "7cYQ-aNYkF4t",
        "outputId": "5b62771a-a107-4606-d203-522d25c3ad89"
      },
      "execution_count": 2,
      "outputs": [
        {
          "output_type": "stream",
          "name": "stdout",
          "text": [
            "Keys of iris_dataset: \n",
            "dict_keys(['data', 'target', 'frame', 'target_names', 'DESCR', 'feature_names', 'filename', 'data_module'])\n"
          ]
        }
      ]
    },
    {
      "cell_type": "code",
      "source": [
        "#Dataset Descriptions Stored as key value pairs\n",
        "print(iris_dataset['DESCR'][:193] + \"\\n...\")"
      ],
      "metadata": {
        "colab": {
          "base_uri": "https://localhost:8080/"
        },
        "id": "hmJWS23yxQ73",
        "outputId": "ca34de76-88df-4a94-a3b7-5a08fe49683e"
      },
      "execution_count": 3,
      "outputs": [
        {
          "output_type": "stream",
          "name": "stdout",
          "text": [
            ".. _iris_dataset:\n",
            "\n",
            "Iris plants dataset\n",
            "--------------------\n",
            "\n",
            "**Data Set Characteristics:**\n",
            "\n",
            "    :Number of Instances: 150 (50 in each of three classes)\n",
            "    :Number of Attributes: 4 numeric, pre\n",
            "...\n"
          ]
        }
      ]
    },
    {
      "cell_type": "code",
      "source": [
        "#the labels we'll be trying to predict\n",
        "print(\"Target Names We're Predicting: \\n{}\".format(iris_dataset['target_names']))"
      ],
      "metadata": {
        "colab": {
          "base_uri": "https://localhost:8080/"
        },
        "id": "I_PwxVpoxhAu",
        "outputId": "d384e5b8-c929-4b23-91f6-da0592b86d9e"
      },
      "execution_count": 7,
      "outputs": [
        {
          "output_type": "stream",
          "name": "stdout",
          "text": [
            "Target Names We're Predicting: \n",
            "['setosa' 'versicolor' 'virginica']\n"
          ]
        }
      ]
    },
    {
      "cell_type": "code",
      "source": [
        "#the features of the sample flowers that will influence the predictions\n",
        "print(\"Feature names: \\n{}\".format(iris_dataset['feature_names']))"
      ],
      "metadata": {
        "colab": {
          "base_uri": "https://localhost:8080/"
        },
        "id": "A_ps2ziJxtkQ",
        "outputId": "d628d006-7ce9-4e10-f9b0-bdc9af1bc732"
      },
      "execution_count": 8,
      "outputs": [
        {
          "output_type": "stream",
          "name": "stdout",
          "text": [
            "Feature names: \n",
            "['sepal length (cm)', 'sepal width (cm)', 'petal length (cm)', 'petal width (cm)']\n"
          ]
        }
      ]
    },
    {
      "cell_type": "code",
      "source": [
        "#Here we can see that the data has already been preprocessed into a suitable\n",
        "#ndarray format\n",
        "print(\"Type of data: {}\".format(type(iris_dataset['data'])))"
      ],
      "metadata": {
        "colab": {
          "base_uri": "https://localhost:8080/"
        },
        "id": "M2HL41q3yYhf",
        "outputId": "45aca551-7b16-4a89-98d5-9b98b743512c"
      },
      "execution_count": 9,
      "outputs": [
        {
          "output_type": "stream",
          "name": "stdout",
          "text": [
            "Type of data: <class 'numpy.ndarray'>\n"
          ]
        }
      ]
    },
    {
      "cell_type": "code",
      "source": [
        "#And that there are 150 samples in the dataset, \n",
        "#represented by the 150 rows\n",
        "print(\"Shape of data: {}\".format(iris_dataset['data'].shape))"
      ],
      "metadata": {
        "colab": {
          "base_uri": "https://localhost:8080/"
        },
        "id": "5ER0ztSeygwK",
        "outputId": "5f884045-e599-4529-83b0-e49806c56f93"
      },
      "execution_count": 10,
      "outputs": [
        {
          "output_type": "stream",
          "name": "stdout",
          "text": [
            "Shape of data: (150, 4)\n"
          ]
        }
      ]
    },
    {
      "cell_type": "code",
      "source": [
        "#You can slice from the beginning of the dataset to check them out \n",
        "print(\"First five columns of data:\\n{}\".format(iris_dataset['data'][:5]))"
      ],
      "metadata": {
        "colab": {
          "base_uri": "https://localhost:8080/"
        },
        "id": "j5WwD1JPyz-p",
        "outputId": "1c44479d-5704-44fb-e203-bc8b6cdb5a3b"
      },
      "execution_count": 11,
      "outputs": [
        {
          "output_type": "stream",
          "name": "stdout",
          "text": [
            "First five columns of data:\n",
            "[[5.1 3.5 1.4 0.2]\n",
            " [4.9 3.  1.4 0.2]\n",
            " [4.7 3.2 1.3 0.2]\n",
            " [4.6 3.1 1.5 0.2]\n",
            " [5.  3.6 1.4 0.2]]\n"
          ]
        }
      ]
    },
    {
      "cell_type": "code",
      "source": [
        "#And confirm that they've been one-hot encoded into a NumPy ndarray\n",
        "print(\"Type of target: {}\".format(type(iris_dataset['target'])))"
      ],
      "metadata": {
        "colab": {
          "base_uri": "https://localhost:8080/"
        },
        "id": "5LV_xoLny0m4",
        "outputId": "53003b29-2f55-40be-afc8-cdcd2c15beb9"
      },
      "execution_count": 12,
      "outputs": [
        {
          "output_type": "stream",
          "name": "stdout",
          "text": [
            "Type of target: <class 'numpy.ndarray'>\n"
          ]
        }
      ]
    },
    {
      "cell_type": "code",
      "source": [
        "#And that they're also 150 of them\n",
        "print(\"Shape of target: {}\".format(iris_dataset['target'].shape))"
      ],
      "metadata": {
        "colab": {
          "base_uri": "https://localhost:8080/"
        },
        "id": "6ivIjaLFzMFz",
        "outputId": "8c5e0e09-ce1d-47b2-8b27-46c6c198c610"
      },
      "execution_count": 13,
      "outputs": [
        {
          "output_type": "stream",
          "name": "stdout",
          "text": [
            "Shape of target: (150,)\n"
          ]
        }
      ]
    },
    {
      "cell_type": "code",
      "source": [
        "print(\"Target:\\n{}\".format(iris_dataset['target']))\\\n",
        "#0 means setosa, 1 means versicolor, and 2 means virginica."
      ],
      "metadata": {
        "colab": {
          "base_uri": "https://localhost:8080/"
        },
        "id": "Prr4yf5ozO4a",
        "outputId": "dc23f564-b13f-4ee8-fe53-769e95e3b6fa"
      },
      "execution_count": 14,
      "outputs": [
        {
          "output_type": "stream",
          "name": "stdout",
          "text": [
            "Target:\n",
            "[0 0 0 0 0 0 0 0 0 0 0 0 0 0 0 0 0 0 0 0 0 0 0 0 0 0 0 0 0 0 0 0 0 0 0 0 0\n",
            " 0 0 0 0 0 0 0 0 0 0 0 0 0 1 1 1 1 1 1 1 1 1 1 1 1 1 1 1 1 1 1 1 1 1 1 1 1\n",
            " 1 1 1 1 1 1 1 1 1 1 1 1 1 1 1 1 1 1 1 1 1 1 1 1 1 1 2 2 2 2 2 2 2 2 2 2 2\n",
            " 2 2 2 2 2 2 2 2 2 2 2 2 2 2 2 2 2 2 2 2 2 2 2 2 2 2 2 2 2 2 2 2 2 2 2 2 2\n",
            " 2 2]\n"
          ]
        }
      ]
    },
    {
      "cell_type": "code",
      "source": [
        "#Splitting the dataset into training and test data to prevent overfitting\n",
        "from sklearn.model_selection import train_test_split\n",
        "X_train, X_test, y_train, y_test = train_test_split(\n",
        "iris_dataset['data'], iris_dataset['target'], random_state=0\n",
        ")"
      ],
      "metadata": {
        "id": "t_f7GrCFzRMU"
      },
      "execution_count": 15,
      "outputs": []
    },
    {
      "cell_type": "code",
      "source": [
        "#Confirm that the splits have been done\n",
        "print(\"X_train shape: {}\".format(X_train.shape))\n",
        "print(\"y_train shape: {}\".format(y_train.shape))\n",
        "print(\"X_test shape: {}\".format(X_test.shape))\n",
        "print(\"y_test shape: {}\".format(y_test.shape))"
      ],
      "metadata": {
        "colab": {
          "base_uri": "https://localhost:8080/"
        },
        "id": "X8qwIBwl0hgR",
        "outputId": "16ee57aa-1d6c-4682-e9e7-cdff832b2653"
      },
      "execution_count": 16,
      "outputs": [
        {
          "output_type": "stream",
          "name": "stdout",
          "text": [
            "X_train shape: (112, 4)\n",
            "y_train shape: (112,)\n",
            "X_test shape: (38, 4)\n",
            "y_test shape: (38,)\n"
          ]
        }
      ]
    },
    {
      "cell_type": "code",
      "source": [
        "#Instantiate the estimator class to get the KNN Model\n",
        "from sklearn.neighbors import KNeighborsClassifier\n",
        "#Set the neighbours parametre to 1, to use \n",
        "#the model at it's simplest state\n",
        "knn = KNeighborsClassifier(n_neighbors=1)"
      ],
      "metadata": {
        "id": "F6RKOA-S1rlR"
      },
      "execution_count": 18,
      "outputs": []
    },
    {
      "cell_type": "code",
      "source": [
        "#Build the model on the training and test data \n",
        "knn.fit(X_train, y_train)"
      ],
      "metadata": {
        "colab": {
          "base_uri": "https://localhost:8080/"
        },
        "id": "nV7cDIyO2La2",
        "outputId": "28eea9f2-7fd2-400b-b124-2745700ebf03"
      },
      "execution_count": 19,
      "outputs": [
        {
          "output_type": "execute_result",
          "data": {
            "text/plain": [
              "KNeighborsClassifier(n_neighbors=1)"
            ]
          },
          "metadata": {},
          "execution_count": 19
        }
      ]
    },
    {
      "cell_type": "code",
      "source": [
        "#Make a prediction using the learned model on new, never-before-seen data\n",
        "X_new = np.array([[5, 2.9, 1, 0.2]])\n",
        "print(\"X_new.shape: {}\".format(X_new.shape))"
      ],
      "metadata": {
        "colab": {
          "base_uri": "https://localhost:8080/"
        },
        "id": "i4HB6D6w3M8V",
        "outputId": "cd0163ba-041c-45f9-87e0-a27c0c1f5790"
      },
      "execution_count": 20,
      "outputs": [
        {
          "output_type": "stream",
          "name": "stdout",
          "text": [
            "X_new.shape: (1, 4)\n"
          ]
        }
      ]
    },
    {
      "cell_type": "code",
      "source": [
        "prediction = knn.predict(X_new)\n",
        "print(\"Prediction: {}\".format(prediction))\n",
        "print(\"Predicted target name: {}\".format(\n",
        " iris_dataset['target_names'][prediction]))"
      ],
      "metadata": {
        "colab": {
          "base_uri": "https://localhost:8080/"
        },
        "id": "lnH6V68X3tUT",
        "outputId": "9d0e3dae-ee99-4840-e674-45053db8d268"
      },
      "execution_count": 21,
      "outputs": [
        {
          "output_type": "stream",
          "name": "stdout",
          "text": [
            "Prediction: [0]\n",
            "Predicted target name: ['setosa']\n"
          ]
        }
      ]
    },
    {
      "cell_type": "code",
      "source": [
        "#Evaluate the model on the test data\n",
        "y_pred = knn.predict(X_test)\n",
        "print(\"Test set predictions:\\n {}\".format(y_pred))"
      ],
      "metadata": {
        "colab": {
          "base_uri": "https://localhost:8080/"
        },
        "id": "rHq4OybB35hc",
        "outputId": "56834aed-ac84-4bf7-eeb8-03ba48ccd674"
      },
      "execution_count": 22,
      "outputs": [
        {
          "output_type": "stream",
          "name": "stdout",
          "text": [
            "Test set predictions:\n",
            " [2 1 0 2 0 2 0 1 1 1 2 1 1 1 1 0 1 1 0 0 2 1 0 0 2 0 0 1 1 0 2 1 0 2 2 1 0\n",
            " 2]\n"
          ]
        }
      ]
    },
    {
      "cell_type": "code",
      "source": [
        "#Get the accuracy manually by finding out how many flower predictions\n",
        "#the model got right\n",
        "print(\"Test set score: {:.2f}\".format(np.mean(y_pred == y_test)))"
      ],
      "metadata": {
        "colab": {
          "base_uri": "https://localhost:8080/"
        },
        "id": "Do3mCddk4Dqp",
        "outputId": "45ba9baa-5708-400e-8f81-8495d0b8f8c8"
      },
      "execution_count": 23,
      "outputs": [
        {
          "output_type": "stream",
          "name": "stdout",
          "text": [
            "Test set score: 0.97\n"
          ]
        }
      ]
    },
    {
      "cell_type": "code",
      "source": [
        "#Or use knn's score method\n",
        "print(\"Test set score: {:.2f}\".format(knn.score(X_test, y_test)))"
      ],
      "metadata": {
        "colab": {
          "base_uri": "https://localhost:8080/"
        },
        "id": "LAr7duCQ4NX7",
        "outputId": "0d5c4748-0ad9-474c-f5c3-d768fbf7336b"
      },
      "execution_count": 24,
      "outputs": [
        {
          "output_type": "stream",
          "name": "stdout",
          "text": [
            "Test set score: 0.97\n"
          ]
        }
      ]
    },
    {
      "cell_type": "code",
      "source": [
        ""
      ],
      "metadata": {
        "id": "j8dsWHRm4PV6"
      },
      "execution_count": null,
      "outputs": []
    }
  ]
}